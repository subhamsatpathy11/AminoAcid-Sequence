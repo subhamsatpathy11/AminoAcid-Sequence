{
 "cells": [
  {
   "cell_type": "code",
   "execution_count": 1,
   "metadata": {},
   "outputs": [
    {
     "data": {
      "text/plain": [
       "True"
      ]
     },
     "execution_count": 1,
     "metadata": {},
     "output_type": "execute_result"
    }
   ],
   "source": [
    "#DNA sequence is translated into the corresponding protein sequence by using the genetic code. \n",
    "#This process is known as DNA to protein translation.\n",
    "#Each unique three character sequence of nucleotides, \n",
    "#sometimes called a nucleotide triplet, corresponds to one amino acid.\n",
    "\n",
    "input_file =\"DNA_sequence_original.txt\" \n",
    "file = open(input_file, \"r\") \n",
    "seq = file.read() \n",
    "  \n",
    "seq = seq.replace(\"\\n\", \"\")  \n",
    "seq = seq.replace(\"\\r\", \"\") \n",
    "  \n",
    "def translate(seq):   #will convert the altered DNA sequence into its Protein \n",
    "                       #equivalent and return it.\n",
    "      \n",
    "    table = { \n",
    "        'ATA':'I', 'ATC':'I', 'ATT':'I', 'ATG':'M', \n",
    "        'ACA':'T', 'ACC':'T', 'ACG':'T', 'ACT':'T', \n",
    "        'AAC':'N', 'AAT':'N', 'AAA':'K', 'AAG':'K', \n",
    "        'AGC':'S', 'AGT':'S', 'AGA':'R', 'AGG':'R',                  \n",
    "        'CTA':'L', 'CTC':'L', 'CTG':'L', 'CTT':'L', \n",
    "        'CCA':'P', 'CCC':'P', 'CCG':'P', 'CCT':'P', \n",
    "        'CAC':'H', 'CAT':'H', 'CAA':'Q', 'CAG':'Q', \n",
    "        'CGA':'R', 'CGC':'R', 'CGG':'R', 'CGT':'R', \n",
    "        'GTA':'V', 'GTC':'V', 'GTG':'V', 'GTT':'V', \n",
    "        'GCA':'A', 'GCC':'A', 'GCG':'A', 'GCT':'A', \n",
    "        'GAC':'D', 'GAT':'D', 'GAA':'E', 'GAG':'E', \n",
    "        'GGA':'G', 'GGC':'G', 'GGG':'G', 'GGT':'G', \n",
    "        'TCA':'S', 'TCC':'S', 'TCG':'S', 'TCT':'S', \n",
    "        'TTC':'F', 'TTT':'F', 'TTA':'L', 'TTG':'L', \n",
    "        'TAC':'Y', 'TAT':'Y', 'TAA':'_', 'TAG':'_', \n",
    "        'TGC':'C', 'TGT':'C', 'TGA':'_', 'TGG':'W', \n",
    "    } \n",
    "    protein =\"\" \n",
    "    if len(seq)%3 == 0: \n",
    "        for i in range(0, len(seq), 3): \n",
    "            codon = seq[i:i + 3] \n",
    "            protein+= table[codon] \n",
    "    return protein \n",
    "def read_seq(inputfile): \n",
    "    with open(inputfile, \"r\") as file: \n",
    "        seq = file.read() \n",
    "    seq = seq.replace(\"\\n\", \"\") \n",
    "    seq = seq.replace(\"\\r\", \"\") \n",
    "    return seq \n",
    "  \n",
    "prt = read_seq(\"amino_acid_sequence_original.txt\") \n",
    "dna = read_seq(\"DNA_sequence_original.txt\") \n",
    "  \n",
    "#Checked the altered DNA sequence is divisible by 3 in ( if len(seq)%3 == 0).\n",
    "#Next,by the formed codons and we will match them with the Amino \n",
    "#acids in the table.\n",
    "  \n",
    "p = translate(dna[20:935]) \n",
    "p == prt  "
   ]
  },
  {
   "cell_type": "code",
   "execution_count": null,
   "metadata": {
    "collapsed": true
   },
   "outputs": [],
   "source": []
  }
 ],
 "metadata": {
  "kernelspec": {
   "display_name": "Python 3",
   "language": "python",
   "name": "python3"
  },
  "language_info": {
   "codemirror_mode": {
    "name": "ipython",
    "version": 3
   },
   "file_extension": ".py",
   "mimetype": "text/x-python",
   "name": "python",
   "nbconvert_exporter": "python",
   "pygments_lexer": "ipython3",
   "version": "3.6.1"
  }
 },
 "nbformat": 4,
 "nbformat_minor": 2
}
